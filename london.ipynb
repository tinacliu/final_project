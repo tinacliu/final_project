{
 "cells": [
  {
   "cell_type": "code",
   "execution_count": 1,
   "metadata": {},
   "outputs": [
    {
     "name": "stderr",
     "output_type": "stream",
     "text": [
      "//anaconda3/lib/python3.7/site-packages/sklearn/utils/deprecation.py:144: FutureWarning: The sklearn.metrics.classification module is  deprecated in version 0.22 and will be removed in version 0.24. The corresponding classes / functions should instead be imported from sklearn.metrics. Anything that cannot be imported from sklearn.metrics is now part of the private API.\n",
      "  warnings.warn(message, FutureWarning)\n"
     ]
    }
   ],
   "source": [
    "%load_ext autoreload\n",
    "%autoreload 2\n",
    "\n",
    "import lib, data, model\n",
    "import graphs as gr\n",
    " \n",
    "import pandas as pd\n",
    "import matplotlib.pyplot as plt \n",
    "import numpy as np\n",
    "import seaborn as sns"
   ]
  },
  {
   "cell_type": "markdown",
   "metadata": {},
   "source": [
    "<h5>Part 1: London Data - cleaning</h5>"
   ]
  },
  {
   "cell_type": "code",
   "execution_count": 2,
   "metadata": {},
   "outputs": [],
   "source": [
    "# triming the original 56 columns to 17 useful columns\n",
    "cols = ['bills_included','description',\n",
    "    'details_url','first_published_date',\n",
    "    'floor_plan', 'num_bathrooms','num_bedrooms','num_recepts',\n",
    "    'furnished_state', 'property_type', 'rental_prices.shared_occupancy',\n",
    "    'latitude', 'longitude','outcode',\n",
    "    'listing_id','status',\n",
    "    'rental_prices.per_month']"
   ]
  },
  {
   "cell_type": "code",
   "execution_count": 3,
   "metadata": {},
   "outputs": [],
   "source": [
    "df = pd.read_csv('./data/london_rental.csv', usecols=cols)"
   ]
  },
  {
   "cell_type": "code",
   "execution_count": 4,
   "metadata": {},
   "outputs": [],
   "source": [
    "# rename the columns\n",
    "df.columns = ['bills_included', 'description', 'details_url', 'first_published_date',\n",
    "          'floor_plan', 'furnished_state', 'latitude', 'listing_id', 'longitude',\n",
    "          'num_bathrooms', 'num_bedrooms', 'num_recepts', 'outcode',\n",
    "          'property_type', 'rent_price', 'shared_occu','status'\n",
    "         ]\n"
   ]
  },
  {
   "cell_type": "code",
   "execution_count": 5,
   "metadata": {},
   "outputs": [
    {
     "name": "stdout",
     "output_type": "stream",
     "text": [
      "<class 'pandas.core.frame.DataFrame'>\n",
      "RangeIndex: 9900 entries, 0 to 9899\n",
      "Data columns (total 17 columns):\n",
      "bills_included          1546 non-null float64\n",
      "description             9892 non-null object\n",
      "details_url             9900 non-null object\n",
      "first_published_date    9900 non-null object\n",
      "floor_plan              7701 non-null object\n",
      "furnished_state         8833 non-null object\n",
      "latitude                9900 non-null float64\n",
      "listing_id              9900 non-null int64\n",
      "longitude               9900 non-null float64\n",
      "num_bathrooms           9900 non-null int64\n",
      "num_bedrooms            9900 non-null int64\n",
      "num_recepts             9900 non-null int64\n",
      "outcode                 9900 non-null object\n",
      "property_type           8949 non-null object\n",
      "rent_price              9900 non-null int64\n",
      "shared_occu             9900 non-null object\n",
      "status                  9900 non-null object\n",
      "dtypes: float64(3), int64(5), object(9)\n",
      "memory usage: 1.3+ MB\n"
     ]
    }
   ],
   "source": [
    "df.info()\n",
    "# data series with null columns are: bills_included, description, floor_plan, furnished_state, property_type\n"
   ]
  },
  {
   "cell_type": "code",
   "execution_count": null,
   "metadata": {},
   "outputs": [],
   "source": [
    "\n",
    "# data series with null columns are: bills_included, description, floor_plan, furnished_state, property_type\n",
    "\n",
    "# clean Nulls in bills_included\n",
    "df['bills_included'].fillna(value=0, inplace=True)\n",
    "\n",
    "# clean Nulls in description\n",
    "df['description'].fillna(value='No description', inplace=True)\n",
    "\n",
    "# clean Nulls and make floor_plan a binary column to state if floorplan is available\n",
    "df['floor_plan'].fillna(value=0, inplace=True)\n",
    "df['floor_plan'] = df['floor_plan'].map(lambda x: 1 if x != 0 else 0)\n",
    "\n",
    "# generate a new column indicating student property\n",
    "df['student'] = df['description'].map(lambda x: 1 if 'student' in x else 0)\n",
    "\n",
    "# if furnished state is missing and its a student property, assume its furnithsed\n",
    "df['furnished_state']  = np.where((df['furnished_state'].isna() & df['student'] == 1),\n",
    "                                'furnished', df['furnished_state'])\n",
    "\n",
    "df['furnished_state'].fillna(value='Missing', inplace=True)\n",
    "\n",
    "# turn shared occupency to binary\n",
    "df['shared_occu'] = df['shared_occu'].map(lambda x: 1 if x == 'Y' else 0)\n",
    "\n",
    "# after investigation, the 11 bathroom one is an error\n",
    "df.drop(1835, inplace=True)\n",
    "\n",
    "\n",
    "# clean up and combine property categories together that means the same thing\n",
    "def type_classify(x):\n",
    "\n",
    "  flats = ['Flat','Maisonette']\n",
    "  terrace = ['Terraced house','End terrace house','Town house','Mews house']\n",
    "  country = ['Cottage','Detached bungalow','Barn conversion','Semi-detached bungalow']\n",
    "\n",
    "  if x in flats:\n",
    "      return 'Flats'\n",
    "  elif x in terrace:\n",
    "      return 'Terrace'\n",
    "  elif x in country:\n",
    "      return 'Country'\n",
    "  elif x == np.nan:\n",
    "      return 'NA'\n",
    "  else:\n",
    "      return x\n",
    "\n",
    "df['property_type'] = df['property_type'].map(lambda x: type_classify(x))\n",
    "\n",
    "# delete all rows with property type \"parking/garage\"\n",
    "indexNames = df[df['property_type'] == 'Parking/garage'].index\n",
    "df.drop(indexNames, inplace=True)\n",
    "\n",
    "df['property_type'].fillna(value='Missing', inplace=True)\n",
    "\n",
    "df['rented'] = df['status'].map(lambda x: 0 if x in ['to_rent'] else 1)\n",
    "df.drop(['status'], axis=1, inplace=True)\n",
    "\n",
    "df.drop_duplicates(subset='listing_id', keep='first', inplace=True)"
   ]
  },
  {
   "cell_type": "code",
   "execution_count": null,
   "metadata": {},
   "outputs": [],
   "source": []
  }
 ],
 "metadata": {
  "kernelspec": {
   "display_name": "Python 3",
   "language": "python",
   "name": "python3"
  },
  "language_info": {
   "codemirror_mode": {
    "name": "ipython",
    "version": 3
   },
   "file_extension": ".py",
   "mimetype": "text/x-python",
   "name": "python",
   "nbconvert_exporter": "python",
   "pygments_lexer": "ipython3",
   "version": "3.7.3"
  }
 },
 "nbformat": 4,
 "nbformat_minor": 4
}
